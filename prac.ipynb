{
 "cells": [
  {
   "cell_type": "code",
   "execution_count": 6,
   "metadata": {},
   "outputs": [],
   "source": [
    "from utils import contents_select\n",
    "from utils import Lip_motion"
   ]
  },
  {
   "cell_type": "code",
   "execution_count": 2,
   "metadata": {},
   "outputs": [
    {
     "data": {
      "text/plain": [
       "([0, 4, 6],\n",
       " [{'start_time': '00:00:00.000',\n",
       "   'speaker_id': '이승준',\n",
       "   'end_time': '00:00:03.304',\n",
       "   'dialogue_id': 1469,\n",
       "   'utterance': '아까 깜빡한게 있는데요 이영애씨'},\n",
       "  {'start_time': '00:00:03.304',\n",
       "   'speaker_id': '이영애',\n",
       "   'end_time': '00:00:04.021',\n",
       "   'dialogue_id': 1468,\n",
       "   'utterance': '뭘요?'},\n",
       "  {'start_time': '00:00:04.021',\n",
       "   'speaker_id': '이승준',\n",
       "   'end_time': '00:00:07.443',\n",
       "   'dialogue_id': 1467,\n",
       "   'utterance': '나 중국에 있는 동안 돈 보냈더라구요? '},\n",
       "  {'start_time': '00:00:08.296',\n",
       "   'speaker_id': '이영애',\n",
       "   'end_time': '00:00:09.606',\n",
       "   'dialogue_id': 1466,\n",
       "   'utterance': '아 네'},\n",
       "  {'start_time': '00:00:10.252',\n",
       "   'speaker_id': '이승준',\n",
       "   'end_time': '00:00:15.878',\n",
       "   'dialogue_id': 1465,\n",
       "   'utterance': '근데 마장동에서 곱창 먹고 집에 갈때 택시비 빌려간거 만사천팔백원은 안보냈던데?'},\n",
       "  {'start_time': '00:00:17.330',\n",
       "   'speaker_id': '이영애',\n",
       "   'end_time': '00:00:17.925',\n",
       "   'dialogue_id': 1464,\n",
       "   'utterance': '네?'},\n",
       "  {'start_time': '00:00:18.016',\n",
       "   'speaker_id': '이승준',\n",
       "   'end_time': '00:00:21.663',\n",
       "   'dialogue_id': 1463,\n",
       "   'utterance': '계산 정확하게 하자면서 그건 왜 빼먹어요?'},\n",
       "  {'start_time': '00:00:22.547',\n",
       "   'speaker_id': '이영애',\n",
       "   'end_time': '00:00:26.177',\n",
       "   'dialogue_id': 1462,\n",
       "   'utterance': '아 네 제가 깜빡했네요'}])"
      ]
     },
     "execution_count": 2,
     "metadata": {},
     "output_type": "execute_result"
    }
   ],
   "source": [
    "filepath = './data/'\n",
    "video_name = 'system_video'\n",
    "contents_select.contents_select(filepath, video_name, exist=True)"
   ]
  },
  {
   "cell_type": "code",
   "execution_count": 7,
   "metadata": {},
   "outputs": [],
   "source": [
    "lets_study = [4, 6]"
   ]
  },
  {
   "cell_type": "code",
   "execution_count": 8,
   "metadata": {},
   "outputs": [
    {
     "name": "stdout",
     "output_type": "stream",
     "text": [
      "Directory is already existed\n"
     ]
    }
   ],
   "source": [
    "video_name = 'user_video'\n",
    "selected_dir = './data/Study_Dir/4th_Study_Dir'\n",
    "Lip_motion.make_target_dir(video_name, selected_dir)"
   ]
  },
  {
   "cell_type": "code",
   "execution_count": null,
   "metadata": {},
   "outputs": [],
   "source": []
  }
 ],
 "metadata": {
  "kernelspec": {
   "display_name": "Python 3.7.13 ('TEST')",
   "language": "python",
   "name": "python3"
  },
  "language_info": {
   "codemirror_mode": {
    "name": "ipython",
    "version": 3
   },
   "file_extension": ".py",
   "mimetype": "text/x-python",
   "name": "python",
   "nbconvert_exporter": "python",
   "pygments_lexer": "ipython3",
   "version": "3.7.13"
  },
  "orig_nbformat": 4,
  "vscode": {
   "interpreter": {
    "hash": "e69b93eb850cc9c3b60ed7a51254e73ef2c5687fc0c8792c45da727264adb2b1"
   }
  }
 },
 "nbformat": 4,
 "nbformat_minor": 2
}
